{
 "cells": [
  {
   "cell_type": "markdown",
   "id": "08a32ef8",
   "metadata": {},
   "source": [
    "<h1><center><font color='black'>Test  2</font></center></h1>"
   ]
  },
  {
   "cell_type": "markdown",
   "id": "c0774474",
   "metadata": {},
   "source": [
    "<h2> Problem 1 </h2>"
   ]
  },
  {
   "cell_type": "markdown",
   "id": "c0fe2ca7",
   "metadata": {},
   "source": [
    "IMPORTING LIBRARIES"
   ]
  },
  {
   "cell_type": "code",
   "execution_count": 6,
   "id": "c91d4582",
   "metadata": {},
   "outputs": [],
   "source": [
    "import os\n",
    "import numpy as np\n",
    "import pandas as pd"
   ]
  },
  {
   "cell_type": "code",
   "execution_count": 7,
   "id": "cc5e5b40",
   "metadata": {},
   "outputs": [
    {
     "data": {
      "text/html": [
       "<div>\n",
       "<style scoped>\n",
       "    .dataframe tbody tr th:only-of-type {\n",
       "        vertical-align: middle;\n",
       "    }\n",
       "\n",
       "    .dataframe tbody tr th {\n",
       "        vertical-align: top;\n",
       "    }\n",
       "\n",
       "    .dataframe thead th {\n",
       "        text-align: right;\n",
       "    }\n",
       "</style>\n",
       "<table border=\"1\" class=\"dataframe\">\n",
       "  <thead>\n",
       "    <tr style=\"text-align: right;\">\n",
       "      <th></th>\n",
       "      <th>Row ID</th>\n",
       "      <th>f1</th>\n",
       "      <th>f2</th>\n",
       "      <th>f3</th>\n",
       "      <th>f4</th>\n",
       "      <th>f5</th>\n",
       "      <th>f6</th>\n",
       "      <th>f7</th>\n",
       "      <th>f8</th>\n",
       "      <th>f9</th>\n",
       "      <th>f10</th>\n",
       "      <th>f11</th>\n",
       "      <th>Load</th>\n",
       "    </tr>\n",
       "  </thead>\n",
       "  <tbody>\n",
       "    <tr>\n",
       "      <th>0</th>\n",
       "      <td>AH</td>\n",
       "      <td>-282.84</td>\n",
       "      <td>284</td>\n",
       "      <td>0</td>\n",
       "      <td>0</td>\n",
       "      <td>0</td>\n",
       "      <td>0</td>\n",
       "      <td>0</td>\n",
       "      <td>100</td>\n",
       "      <td>0</td>\n",
       "      <td>0.0</td>\n",
       "      <td>0</td>\n",
       "      <td>0.0</td>\n",
       "    </tr>\n",
       "    <tr>\n",
       "      <th>1</th>\n",
       "      <td>AV</td>\n",
       "      <td>-282.84</td>\n",
       "      <td>0</td>\n",
       "      <td>0</td>\n",
       "      <td>0</td>\n",
       "      <td>282</td>\n",
       "      <td>0</td>\n",
       "      <td>0</td>\n",
       "      <td>0</td>\n",
       "      <td>0</td>\n",
       "      <td>0.0</td>\n",
       "      <td>0</td>\n",
       "      <td>0.0</td>\n",
       "    </tr>\n",
       "    <tr>\n",
       "      <th>2</th>\n",
       "      <td>BH</td>\n",
       "      <td>0.00</td>\n",
       "      <td>283</td>\n",
       "      <td>0</td>\n",
       "      <td>0</td>\n",
       "      <td>0</td>\n",
       "      <td>0</td>\n",
       "      <td>0</td>\n",
       "      <td>0</td>\n",
       "      <td>0</td>\n",
       "      <td>0.0</td>\n",
       "      <td>0</td>\n",
       "      <td>0.0</td>\n",
       "    </tr>\n",
       "    <tr>\n",
       "      <th>3</th>\n",
       "      <td>BV</td>\n",
       "      <td>0.00</td>\n",
       "      <td>0</td>\n",
       "      <td>-279</td>\n",
       "      <td>0</td>\n",
       "      <td>0</td>\n",
       "      <td>0</td>\n",
       "      <td>0</td>\n",
       "      <td>0</td>\n",
       "      <td>0</td>\n",
       "      <td>0.0</td>\n",
       "      <td>0</td>\n",
       "      <td>-400.0</td>\n",
       "    </tr>\n",
       "    <tr>\n",
       "      <th>4</th>\n",
       "      <td>CH</td>\n",
       "      <td>0.00</td>\n",
       "      <td>0</td>\n",
       "      <td>0</td>\n",
       "      <td>0</td>\n",
       "      <td>0</td>\n",
       "      <td>0</td>\n",
       "      <td>0</td>\n",
       "      <td>-100</td>\n",
       "      <td>0</td>\n",
       "      <td>0.0</td>\n",
       "      <td>0</td>\n",
       "      <td>0.0</td>\n",
       "    </tr>\n",
       "  </tbody>\n",
       "</table>\n",
       "</div>"
      ],
      "text/plain": [
       "  Row ID      f1   f2   f3  f4   f5  f6  f7   f8  f9  f10  f11   Load\n",
       "0     AH -282.84  284    0   0    0   0   0  100   0  0.0    0    0.0\n",
       "1     AV -282.84    0    0   0  282   0   0    0   0  0.0    0    0.0\n",
       "2     BH    0.00  283    0   0    0   0   0    0   0  0.0    0    0.0\n",
       "3     BV    0.00    0 -279   0    0   0   0    0   0  0.0    0 -400.0\n",
       "4     CH    0.00    0    0   0    0   0   0 -100   0  0.0    0    0.0"
      ]
     },
     "execution_count": 7,
     "metadata": {},
     "output_type": "execute_result"
    }
   ],
   "source": [
    "# read the csv file\n",
    "a = pd.read_csv('D:\\\\python\\\\load.csv') \n",
    "a.head(5)"
   ]
  },
  {
   "cell_type": "code",
   "execution_count": 8,
   "id": "19cf7faf",
   "metadata": {},
   "outputs": [],
   "source": [
    "# extract Coefficient matrix\n",
    "coef = a.iloc[:,1:11]\n",
    "rhs = a['Load']"
   ]
  },
  {
   "cell_type": "code",
   "execution_count": 13,
   "id": "e08beb99",
   "metadata": {},
   "outputs": [
    {
     "ename": "ValueError",
     "evalue": "cannot reshape array of size 110 into shape (10,10)",
     "output_type": "error",
     "traceback": [
      "\u001b[1;31m---------------------------------------------------------------------------\u001b[0m",
      "\u001b[1;31mValueError\u001b[0m                                Traceback (most recent call last)",
      "Input \u001b[1;32mIn [13]\u001b[0m, in \u001b[0;36m<cell line: 3>\u001b[1;34m()\u001b[0m\n\u001b[0;32m      1\u001b[0m \u001b[38;5;66;03m# convert to numpy arrays and reshape to matrix form\u001b[39;00m\n\u001b[0;32m      2\u001b[0m coef_mat \u001b[38;5;241m=\u001b[39m np\u001b[38;5;241m.\u001b[39marray(coef)\n\u001b[1;32m----> 3\u001b[0m coef_mat \u001b[38;5;241m=\u001b[39m \u001b[43mcoef_mat\u001b[49m\u001b[38;5;241;43m.\u001b[39;49m\u001b[43mreshape\u001b[49m\u001b[43m(\u001b[49m\u001b[38;5;241;43m10\u001b[39;49m\u001b[43m,\u001b[49m\u001b[38;5;241;43m10\u001b[39;49m\u001b[43m)\u001b[49m\n\u001b[0;32m      4\u001b[0m rhs_mat \u001b[38;5;241m=\u001b[39m np\u001b[38;5;241m.\u001b[39marray(rhs)\n\u001b[0;32m      5\u001b[0m rhs_mat \u001b[38;5;241m=\u001b[39m rhs_mat\u001b[38;5;241m.\u001b[39mreshape(\u001b[38;5;241m10\u001b[39m,\u001b[38;5;241m1\u001b[39m)\n",
      "\u001b[1;31mValueError\u001b[0m: cannot reshape array of size 110 into shape (10,10)"
     ]
    }
   ],
   "source": [
    "# convert to numpy arrays and reshape to matrix form\n",
    "coef_mat = np.array(coef)\n",
    "coef_mat = coef_mat.reshape(10,10)\n",
    "rhs_mat = np.array(rhs)\n",
    "rhs_mat = rhs_mat.reshape(10,1)"
   ]
  },
  {
   "cell_type": "code",
   "execution_count": 10,
   "id": "dd5b4bb8",
   "metadata": {},
   "outputs": [
    {
     "ename": "NameError",
     "evalue": "name 'rhs_mat' is not defined",
     "output_type": "error",
     "traceback": [
      "\u001b[1;31m---------------------------------------------------------------------------\u001b[0m",
      "\u001b[1;31mNameError\u001b[0m                                 Traceback (most recent call last)",
      "Input \u001b[1;32mIn [10]\u001b[0m, in \u001b[0;36m<cell line: 2>\u001b[1;34m()\u001b[0m\n\u001b[0;32m      1\u001b[0m \u001b[38;5;66;03m# move load to RHS\u001b[39;00m\n\u001b[1;32m----> 2\u001b[0m rhs_mat \u001b[38;5;241m=\u001b[39m \u001b[43mrhs_mat\u001b[49m \u001b[38;5;241m*\u001b[39m \u001b[38;5;241m-\u001b[39m\u001b[38;5;241m1\u001b[39m\n",
      "\u001b[1;31mNameError\u001b[0m: name 'rhs_mat' is not defined"
     ]
    }
   ],
   "source": [
    "# move load to RHS\n",
    "rhs_mat = rhs_mat * -1 "
   ]
  },
  {
   "cell_type": "code",
   "execution_count": 14,
   "id": "5902695d",
   "metadata": {},
   "outputs": [
    {
     "ename": "LinAlgError",
     "evalue": "Last 2 dimensions of the array must be square",
     "output_type": "error",
     "traceback": [
      "\u001b[1;31m---------------------------------------------------------------------------\u001b[0m",
      "\u001b[1;31mLinAlgError\u001b[0m                               Traceback (most recent call last)",
      "Input \u001b[1;32mIn [14]\u001b[0m, in \u001b[0;36m<cell line: 2>\u001b[1;34m()\u001b[0m\n\u001b[0;32m      1\u001b[0m \u001b[38;5;66;03m# Find the inverse of the coef matrix\u001b[39;00m\n\u001b[1;32m----> 2\u001b[0m coef_mat_inv \u001b[38;5;241m=\u001b[39m \u001b[43mnp\u001b[49m\u001b[38;5;241;43m.\u001b[39;49m\u001b[43mlinalg\u001b[49m\u001b[38;5;241;43m.\u001b[39;49m\u001b[43minv\u001b[49m\u001b[43m(\u001b[49m\u001b[43mcoef_mat\u001b[49m\u001b[43m)\u001b[49m\n",
      "File \u001b[1;32m<__array_function__ internals>:5\u001b[0m, in \u001b[0;36minv\u001b[1;34m(*args, **kwargs)\u001b[0m\n",
      "File \u001b[1;32m~\\anaconda3\\lib\\site-packages\\numpy\\linalg\\linalg.py:540\u001b[0m, in \u001b[0;36minv\u001b[1;34m(a)\u001b[0m\n\u001b[0;32m    538\u001b[0m a, wrap \u001b[38;5;241m=\u001b[39m _makearray(a)\n\u001b[0;32m    539\u001b[0m _assert_stacked_2d(a)\n\u001b[1;32m--> 540\u001b[0m \u001b[43m_assert_stacked_square\u001b[49m\u001b[43m(\u001b[49m\u001b[43ma\u001b[49m\u001b[43m)\u001b[49m\n\u001b[0;32m    541\u001b[0m t, result_t \u001b[38;5;241m=\u001b[39m _commonType(a)\n\u001b[0;32m    543\u001b[0m signature \u001b[38;5;241m=\u001b[39m \u001b[38;5;124m'\u001b[39m\u001b[38;5;124mD->D\u001b[39m\u001b[38;5;124m'\u001b[39m \u001b[38;5;28;01mif\u001b[39;00m isComplexType(t) \u001b[38;5;28;01melse\u001b[39;00m \u001b[38;5;124m'\u001b[39m\u001b[38;5;124md->d\u001b[39m\u001b[38;5;124m'\u001b[39m\n",
      "File \u001b[1;32m~\\anaconda3\\lib\\site-packages\\numpy\\linalg\\linalg.py:203\u001b[0m, in \u001b[0;36m_assert_stacked_square\u001b[1;34m(*arrays)\u001b[0m\n\u001b[0;32m    201\u001b[0m m, n \u001b[38;5;241m=\u001b[39m a\u001b[38;5;241m.\u001b[39mshape[\u001b[38;5;241m-\u001b[39m\u001b[38;5;241m2\u001b[39m:]\n\u001b[0;32m    202\u001b[0m \u001b[38;5;28;01mif\u001b[39;00m m \u001b[38;5;241m!=\u001b[39m n:\n\u001b[1;32m--> 203\u001b[0m     \u001b[38;5;28;01mraise\u001b[39;00m LinAlgError(\u001b[38;5;124m'\u001b[39m\u001b[38;5;124mLast 2 dimensions of the array must be square\u001b[39m\u001b[38;5;124m'\u001b[39m)\n",
      "\u001b[1;31mLinAlgError\u001b[0m: Last 2 dimensions of the array must be square"
     ]
    }
   ],
   "source": [
    "# Find the inverse of the coef matrix\n",
    "coef_mat_inv = np.linalg.inv(coef_mat)"
   ]
  },
  {
   "cell_type": "code",
   "execution_count": 15,
   "id": "00507698",
   "metadata": {},
   "outputs": [
    {
     "ename": "NameError",
     "evalue": "name 'coef_mat_inv' is not defined",
     "output_type": "error",
     "traceback": [
      "\u001b[1;31m---------------------------------------------------------------------------\u001b[0m",
      "\u001b[1;31mNameError\u001b[0m                                 Traceback (most recent call last)",
      "Input \u001b[1;32mIn [15]\u001b[0m, in \u001b[0;36m<cell line: 2>\u001b[1;34m()\u001b[0m\n\u001b[0;32m      1\u001b[0m \u001b[38;5;66;03m# Multiply inverse with RHS matrix\u001b[39;00m\n\u001b[1;32m----> 2\u001b[0m F \u001b[38;5;241m=\u001b[39m np\u001b[38;5;241m.\u001b[39mmatmul(\u001b[43mcoef_mat_inv\u001b[49m,rhs_mat)\n",
      "\u001b[1;31mNameError\u001b[0m: name 'coef_mat_inv' is not defined"
     ]
    }
   ],
   "source": [
    "# Multiply inverse with RHS matrix\n",
    "F = np.matmul(coef_mat_inv,rhs_mat)"
   ]
  },
  {
   "cell_type": "code",
   "execution_count": 16,
   "id": "9fdb8f03",
   "metadata": {},
   "outputs": [
    {
     "ename": "NameError",
     "evalue": "name 'F' is not defined",
     "output_type": "error",
     "traceback": [
      "\u001b[1;31m---------------------------------------------------------------------------\u001b[0m",
      "\u001b[1;31mNameError\u001b[0m                                 Traceback (most recent call last)",
      "Input \u001b[1;32mIn [16]\u001b[0m, in \u001b[0;36m<cell line: 2>\u001b[1;34m()\u001b[0m\n\u001b[0;32m      1\u001b[0m \u001b[38;5;66;03m# Use UFUNC np.round for 4 decimals\u001b[39;00m\n\u001b[1;32m----> 2\u001b[0m F \u001b[38;5;241m=\u001b[39m np\u001b[38;5;241m.\u001b[39mround(\u001b[43mF\u001b[49m,\u001b[38;5;241m4\u001b[39m)\n",
      "\u001b[1;31mNameError\u001b[0m: name 'F' is not defined"
     ]
    }
   ],
   "source": [
    "# Use UFUNC np.round for 4 decimals\n",
    "F = np.round(F,4)"
   ]
  },
  {
   "cell_type": "markdown",
   "id": "68ae4925",
   "metadata": {},
   "source": [
    "<h2> Problem 2 </h2>"
   ]
  },
  {
   "cell_type": "code",
   "execution_count": 25,
   "id": "6e15f307",
   "metadata": {},
   "outputs": [],
   "source": [
    "import numpy as np\n",
    "import matplotlib.pyplot as plot #importing libraries"
   ]
  },
  {
   "cell_type": "code",
   "execution_count": 28,
   "id": "d654ef12",
   "metadata": {},
   "outputs": [
    {
     "name": "stdout",
     "output_type": "stream",
     "text": [
      "    Year  Annual_Discharge\n",
      "0   1960             72.00\n",
      "1   1961            156.00\n",
      "2   1962             68.80\n",
      "3   1963             31.90\n",
      "4   1964             54.00\n",
      "5   1965             24.80\n",
      "6   1966             76.30\n",
      "7   1967             17.40\n",
      "8   1968            113.30\n",
      "9   1969            141.80\n",
      "10  1970             27.90\n",
      "11  1971              6.36\n",
      "12  1972             39.80\n",
      "13  1973            148.40\n",
      "14  1974            165.00\n",
      "15  1975            171.70\n",
      "16  1976             49.00\n",
      "17  1977             42.40\n",
      "18  1978             74.40\n",
      "19  1979            190.60\n",
      "20  1980             86.10\n",
      "21  1981             23.90\n",
      "22  1982             53.20\n",
      "23  1983            171.30\n",
      "24  1984            106.30\n",
      "25  1985             64.00\n"
     ]
    }
   ],
   "source": [
    "a =pd.read_csv('D:\\\\python\\\\problem2.csv')  #read the csv file\n",
    "print(a)\n"
   ]
  },
  {
   "cell_type": "code",
   "execution_count": 29,
   "id": "40f8702b",
   "metadata": {},
   "outputs": [
    {
     "ename": "AttributeError",
     "evalue": "module 'matplotlib.pyplot' has no attribute 'xlebel'",
     "output_type": "error",
     "traceback": [
      "\u001b[1;31m---------------------------------------------------------------------------\u001b[0m",
      "\u001b[1;31mAttributeError\u001b[0m                            Traceback (most recent call last)",
      "Input \u001b[1;32mIn [29]\u001b[0m, in \u001b[0;36m<cell line: 7>\u001b[1;34m()\u001b[0m\n\u001b[0;32m      5\u001b[0m y\n\u001b[0;32m      6\u001b[0m plot\u001b[38;5;241m.\u001b[39mplot(x,y,\u001b[38;5;124m'\u001b[39m\u001b[38;5;124mro\u001b[39m\u001b[38;5;124m'\u001b[39m)    \u001b[38;5;66;03m# x and y values plotting as year and annual discharge\u001b[39;00m\n\u001b[1;32m----> 7\u001b[0m \u001b[43mplot\u001b[49m\u001b[38;5;241;43m.\u001b[39;49m\u001b[43mxlebel\u001b[49m(\u001b[38;5;124m'\u001b[39m\u001b[38;5;124mYear\u001b[39m\u001b[38;5;124m'\u001b[39m)    \u001b[38;5;66;03m# Marking the x plot as year\u001b[39;00m\n\u001b[0;32m      8\u001b[0m plot\u001b[38;5;241m.\u001b[39mylebel(\u001b[38;5;124m'\u001b[39m\u001b[38;5;124mAnuall maximum flow\u001b[39m\u001b[38;5;124m'\u001b[39m)  \u001b[38;5;66;03m# lebeling the y plot as annual maximum flow\u001b[39;00m\n\u001b[0;32m      9\u001b[0m plot\u001b[38;5;241m.\u001b[39mtitle(\u001b[38;5;124m'\u001b[39m\u001b[38;5;124mYear vs flow\u001b[39m\u001b[38;5;124m'\u001b[39m)   \u001b[38;5;66;03m# title for the plot\u001b[39;00m\n",
      "\u001b[1;31mAttributeError\u001b[0m: module 'matplotlib.pyplot' has no attribute 'xlebel'"
     ]
    },
    {
     "data": {
      "image/png": "[encoded data removed]",
      "text/plain": [
       "<Figure size 432x288 with 1 Axes>"
      ]
     },
     "metadata": {
      "needs_background": "light"
     },
     "output_type": "display_data"
    }
   ],
   "source": [
    "#map plotting: \n",
    "x = a['Year']   # Extract the colom\n",
    "x\n",
    "y = a['Annual_Discharge']  # Extract thecolom\n",
    "y\n",
    "plot.plot(x,y,'ro')    # x and y values plotting as year and annual discharge\n",
    "plot.xlebel('Year')    # Marking the x plot as year\n",
    "plot.ylebel('Anuall maximum flow')  # lebeling the y plot as annual maximum flow\n",
    "plot.title('Year vs flow')   # title for the plot\n",
    "plot.show()"
   ]
  },
  {
   "cell_type": "markdown",
   "id": "457b3ad5",
   "metadata": {},
   "source": [
    "<h2> Problem 3 </h2>"
   ]
  },
  {
   "cell_type": "code",
   "execution_count": 24,
   "id": "114a9888",
   "metadata": {},
   "outputs": [
    {
     "name": "stderr",
     "output_type": "stream",
     "text": [
      "<>:4: SyntaxWarning: 'float' object is not callable; perhaps you missed a comma?\n",
      "<>:4: SyntaxWarning: 'float' object is not callable; perhaps you missed a comma?\n",
      "C:\\Users\\Asus\\AppData\\Local\\Temp\\ipykernel_37324\\240199710.py:4: SyntaxWarning: 'float' object is not callable; perhaps you missed a comma?\n",
      "  A= (Q*n)/(1.49)(R(2/3))(S**(1/2)) #definig the function\n"
     ]
    }
   ],
   "source": [
    "#importing libraries\n",
    "import numpy as np\n",
    "def fx(n,R,S,Q):\n",
    "    A= (Q*n)/(1.49)(R(2/3))(S**(1/2)) #defining the function\n",
    "    \n"
   ]
  },
  {
   "cell_type": "code",
   "execution_count": null,
   "id": "29aaa87a",
   "metadata": {},
   "outputs": [],
   "source": [
    "#Load the variables\n",
    "Q = 0.020\n",
    "S = .003\n",
    "\n"
   ]
  },
  {
   "cell_type": "code",
   "execution_count": null,
   "id": "1e060ee4",
   "metadata": {},
   "outputs": [],
   "source": []
  }
 ],
 "metadata": {
  "kernelspec": {
   "display_name": "Python 3 (ipykernel)",
   "language": "python",
   "name": "python3"
  },
  "language_info": {
   "codemirror_mode": {
    "name": "ipython",
    "version": 3
   },
   "file_extension": ".py",
   "mimetype": "text/x-python",
   "name": "python",
   "nbconvert_exporter": "python",
   "pygments_lexer": "ipython3",
   "version": "3.9.12"
  }
 },
 "nbformat": 4,
 "nbformat_minor": 5
}
